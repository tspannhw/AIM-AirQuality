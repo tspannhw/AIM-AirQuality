{
 "cells": [
  {
   "cell_type": "code",
   "execution_count": 2,
   "id": "cd7c8530-7b85-4c1e-94af-374081ff66d0",
   "metadata": {},
   "outputs": [],
   "source": [
    "import os\n",
    "from pymilvus import MilvusClient\n",
    "from langchain_community.document_loaders import PyPDFLoader\n",
    "from langchain.text_splitter import RecursiveCharacterTextSplitter\n",
    "from langchain.chains import RetrievalQA\n",
    "from langchain_community.embeddings import HuggingFaceEmbeddings\n",
    "from langchain.callbacks.manager import CallbackManager\n",
    "from langchain.callbacks.streaming_stdout import StreamingStdOutCallbackHandler\n",
    "from langchain_community.llms import Ollama\n",
    "from langchain import hub\n",
    "from langchain_huggingface import HuggingFaceEmbeddings\n",
    "from langchain_community.vectorstores import Milvus\n",
    "from langchain import hub\n",
    "from langchain.chains import RetrievalQA\n",
    "from langchain_community.llms import Ollama\n",
    "from langchain.callbacks.manager import CallbackManager\n",
    "from langchain.callbacks.streaming_stdout import StreamingStdOutCallbackHandler\n",
    "import requests\n",
    "import sys\n",
    "import io\n",
    "import json\n",
    "import shutil\n",
    "import sys\n",
    "import datetime\n",
    "import subprocess\n",
    "import math\n",
    "import base64\n",
    "from time import gmtime, strftime\n",
    "import random, string\n",
    "import time\n",
    "import base64\n",
    "import uuid\n",
    "import socket\n",
    "from pymilvus import connections\n",
    "from pymilvus import utility\n",
    "from pymilvus import FieldSchema, CollectionSchema, DataType, Collection\n",
    "from pymilvus import MilvusClient\n",
    "from slack_sdk import WebClient\n",
    "from slack_sdk.errors import SlackApiError\n",
    "from dotenv import load_dotenv\n",
    "load_dotenv(verbose=True)\n",
    "from datetime import datetime, timedelta\n",
    "from langchain_milvus import Milvus\n",
    "\n",
    "DIMENSION = 384 \n",
    "TOKEN = os.environ.get(\"ZILLIZ_TOKEN\")\n",
    "MILVUS_URL = os.environ.get(\"SERVERLESS_VECTORDB_URI\")\n",
    "\n",
    "slack_token = os.environ.get(\"SLACK_BOT_TOKEN\")\n",
    "client = WebClient(token=slack_token)\n",
    "embeddings = HuggingFaceEmbeddings(model_name=\"all-MiniLM-L6-v2\")\n",
    "\n",
    "OAQ3_COLLECTION_NAME = \"openaqmeasurements\"\n",
    "TODAYS_DATE = str( datetime.today().strftime('%Y-%m-%d') ) \n",
    "YESTERDAYS_DATE = (datetime.now() - timedelta(1)).strftime('%Y-%m-%d')\n",
    "\n",
    "os.environ[\"LANGCHAIN_HUB_API_URL\"] = \"https://api.hub.langchain.com\"\n",
    "os.environ[\"LANGCHAIN_HUB_API_KEY\"] = os.environ.get(\"LANGCHAIN_HUB_API_KEY\")\n",
    "os.environ[\"LANGCHAIN_API_KEY\"] = os.environ.get(\"LANGCHAIN_HUB_API_KEY\")\n",
    "os.environ[\"LANGCHAIN_TRACING_V2\"] = \"true\"\n",
    "os.environ[\"LANGCHAIN_ENDPOINT\"] = \"https://api.hub.langchain.com\"\n",
    "os.environ[\"TOKENIZERS_PARALLELISM\"]  = \"true\"\n",
    "\n",
    "### Turn off slack warnings\n",
    "os.environ[\"SKIP_SLACK_SDK_WARNING\"] = \"false\"\n"
   ]
  },
  {
   "cell_type": "code",
   "execution_count": 3,
   "id": "3570c115-93f2-4d8a-91bc-73f1c545381e",
   "metadata": {},
   "outputs": [],
   "source": [
    "# -----------------------------------------------------------------------------\n",
    "# Connect to Milvus\n",
    "# https://zilliz.com/blog/a-beginners-guide-to-using-llama-3-with-ollama-milvus-langchain\n",
    "# https://github.com/stephen37/ollama_local_rag/blob/main/rag_berlin_parliament.py\n",
    "# https://python.langchain.com/v0.2/docs/integrations/vectorstores/milvus/\n",
    "# https://api.python.langchain.com/en/latest/vectorstores/langchain_milvus.vectorstores.milvus.Milvus.html\n",
    "\n",
    "vector_store = Milvus(\n",
    "    embedding_function=embeddings,\n",
    "    collection_name=OAQ3_COLLECTION_NAME,\n",
    "    primary_field = \"id\",\n",
    "    text_field=\"details\",\n",
    "    connection_args={\"uri\": MILVUS_URL, \"token\": TOKEN},\n",
    ")"
   ]
  },
  {
   "cell_type": "code",
   "execution_count": 4,
   "id": "a4684863-ef54-437d-ac3b-47d0075c53fb",
   "metadata": {},
   "outputs": [],
   "source": [
    "def run_query() -> None:\n",
    "    llm = Ollama(\n",
    "        model=\"llama3.1\",\n",
    "        callback_manager=CallbackManager([StreamingStdOutCallbackHandler()]),\n",
    "        stop=[\"<|eot_id|>\"],\n",
    "    )\n",
    "\n",
    "    query = input(\"\\nQuery: \")\n",
    "    qa_chain = RetrievalQA.from_chain_type(\n",
    "        llm, retriever=vector_store.as_retriever(collection =  OAQ3_COLLECTION_NAME, expr=\"parameter == 'o3'\"))\n",
    "\n",
    "    result = qa_chain.invoke({\"query\": query})\n",
    "    \n",
    "    resultforslack = str(result[\"result\"])\n",
    "    print(resultforslack)\n",
    "\n",
    "    try:\n",
    "        response = client.chat_postMessage(mrkdwn=True, channel=\"C06NE1FU6SE\", text=\"\", \n",
    "                                            blocks=[{\"type\": \"section\",\"text\": {\"type\": \"mrkdwn\",\"text\": \"*\" + str(query) + \"*  \\n\\n\" + str(resultforslack) +\"\\n\" }}])\n",
    "\n",
    "    \n",
    "    except SlackApiError as e:\n",
    "        # You will get a SlackApiError if \"ok\" is False\n",
    "        print(\"Slack failed\")"
   ]
  },
  {
   "cell_type": "code",
   "execution_count": null,
   "id": "6ed46ba7-5763-4aa0-b605-8cb302de1c93",
   "metadata": {},
   "outputs": [
    {
     "name": "stderr",
     "output_type": "stream",
     "text": [
      "/var/folders/c2/6wq9klzn19d97gvw8f8j1jdr0000gn/T/ipykernel_39496/3344370668.py:2: DeprecationWarning: callback_manager is deprecated. Please use callbacks instead.\n",
      "  llm = Ollama(\n"
     ]
    },
    {
     "name": "stdin",
     "output_type": "stream",
     "text": [
      "\n",
      "Query:  Provide a detailed air quality report for Trenton\n"
     ]
    },
    {
     "name": "stdout",
     "output_type": "stream",
     "text": [
      "Based on the provided context, here is a detailed air quality report for Trenton:\n",
      "\n",
      "**Current Air Quality Status**\n",
      "\n",
      "The current air quality reading for ozone (o3) in Trenton is 0.06 ppm at 16:00:00-04:00 on September 10th, 2024.\n",
      "\n",
      "**Recent Air Quality Readings**\n",
      "\n",
      "Here are the recent air quality readings for o3 in Trenton:\n",
      "\n",
      "* At 11:00:00-04:00 on September 10th, 2024, the reading was 0.045 ppm.\n",
      "* At 09:00:00-04:00 on September 10th, 2024, the reading was 0.03 ppm.\n",
      "* At 15:00:00-04:00 on September 10th, 2024, the reading was 0.061 ppm.\n",
      "\n",
      "**Trends and Patterns**\n",
      "\n",
      "There appears to be a slight increase in o3 levels throughout the day, with readings increasing from 0.03 ppm at 09:00:00-04:00 to 0.06 ppm at 16:00:00-04:00. However, it's worth noting that these changes are relatively small and may not be statistically significant.\n",
      "\n",
      "**Sensor Information**\n",
      "\n",
      "The air quality data is provided by a reference-grade sensor located at the specified coordinates (33.7397,-81.8536) in Trenton. The sensor is stationary (Mobile: False) and is operated by a governmental organization (Entity: Governmental Organization).\n",
      "\n",
      "I don't know what specific information you are looking for beyond this report, but please let me know if there's anything else I can help with!Based on the provided context, here is a detailed air quality report for Trenton:\n",
      "\n",
      "**Current Air Quality Status**\n",
      "\n",
      "The current air quality reading for ozone (o3) in Trenton is 0.06 ppm at 16:00:00-04:00 on September 10th, 2024.\n",
      "\n",
      "**Recent Air Quality Readings**\n",
      "\n",
      "Here are the recent air quality readings for o3 in Trenton:\n",
      "\n",
      "* At 11:00:00-04:00 on September 10th, 2024, the reading was 0.045 ppm.\n",
      "* At 09:00:00-04:00 on September 10th, 2024, the reading was 0.03 ppm.\n",
      "* At 15:00:00-04:00 on September 10th, 2024, the reading was 0.061 ppm.\n",
      "\n",
      "**Trends and Patterns**\n",
      "\n",
      "There appears to be a slight increase in o3 levels throughout the day, with readings increasing from 0.03 ppm at 09:00:00-04:00 to 0.06 ppm at 16:00:00-04:00. However, it's worth noting that these changes are relatively small and may not be statistically significant.\n",
      "\n",
      "**Sensor Information**\n",
      "\n",
      "The air quality data is provided by a reference-grade sensor located at the specified coordinates (33.7397,-81.8536) in Trenton. The sensor is stationary (Mobile: False) and is operated by a governmental organization (Entity: Governmental Organization).\n",
      "\n",
      "I don't know what specific information you are looking for beyond this report, but please let me know if there's anything else I can help with!\n"
     ]
    },
    {
     "name": "stderr",
     "output_type": "stream",
     "text": [
      "/var/folders/c2/6wq9klzn19d97gvw8f8j1jdr0000gn/T/ipykernel_39496/3344370668.py:2: DeprecationWarning: callback_manager is deprecated. Please use callbacks instead.\n",
      "  llm = Ollama(\n"
     ]
    },
    {
     "name": "stdin",
     "output_type": "stream",
     "text": [
      "\n",
      "Query:  Provide a detailed air quality report for Houston\n"
     ]
    },
    {
     "name": "stdout",
     "output_type": "stream",
     "text": [
      "Based on the provided data, here is a detailed air quality report for Houston:\n",
      "\n",
      "**Current Air Quality Status**\n",
      "\n",
      "The current air quality reading for ozone (o3) in the Houston area is as follows:\n",
      "\n",
      "* At 6:00 AM on September 10, 2024, at Location 195 (Houston Park Place C), the o3 reading was 0.015 ppm.\n",
      "* At 1:00 PM on September 10, 2024, at Location 195 (Houston Park Place C), the o3 reading was 0.03 ppm.\n",
      "* There is no data available for other locations or pollutants.\n",
      "\n",
      "**Air Quality Index (AQI)**\n",
      "\n",
      "Unfortunately, the provided data does not include a numerical AQI value, which typically ranges from 0 to 500. However, based on the o3 readings, we can make an educated estimate:\n",
      "\n",
      "* The 6:00 AM reading of 0.015 ppm is within the \"Good\" category (AQI < 50).\n",
      "* The 1:00 PM reading of 0.03 ppm is also within the \"Moderate\" category (AQI = 51-100).\n",
      "\n",
      "**Comparison of Locations**\n",
      "\n",
      "The two locations reported have slightly different o3 readings:\n",
      "\n",
      "* Location 195 (Houston Park Place C) had a higher o3 reading at 1:00 PM (0.03 ppm) compared to 6:00 AM (0.015 ppm).\n",
      "* There is no data available for other locations in Houston, making it difficult to compare the air quality across different areas.\n",
      "\n",
      "**Recommendations**\n",
      "\n",
      "Based on this report, residents of Houston can expect good air quality conditions during early morning hours and moderate air quality during late afternoon hours. However, more detailed information is needed to provide a comprehensive air quality report.Based on the provided data, here is a detailed air quality report for Houston:\n",
      "\n",
      "**Current Air Quality Status**\n",
      "\n",
      "The current air quality reading for ozone (o3) in the Houston area is as follows:\n",
      "\n",
      "* At 6:00 AM on September 10, 2024, at Location 195 (Houston Park Place C), the o3 reading was 0.015 ppm.\n",
      "* At 1:00 PM on September 10, 2024, at Location 195 (Houston Park Place C), the o3 reading was 0.03 ppm.\n",
      "* There is no data available for other locations or pollutants.\n",
      "\n",
      "**Air Quality Index (AQI)**\n",
      "\n",
      "Unfortunately, the provided data does not include a numerical AQI value, which typically ranges from 0 to 500. However, based on the o3 readings, we can make an educated estimate:\n",
      "\n",
      "* The 6:00 AM reading of 0.015 ppm is within the \"Good\" category (AQI < 50).\n",
      "* The 1:00 PM reading of 0.03 ppm is also within the \"Moderate\" category (AQI = 51-100).\n",
      "\n",
      "**Comparison of Locations**\n",
      "\n",
      "The two locations reported have slightly different o3 readings:\n",
      "\n",
      "* Location 195 (Houston Park Place C) had a higher o3 reading at 1:00 PM (0.03 ppm) compared to 6:00 AM (0.015 ppm).\n",
      "* There is no data available for other locations in Houston, making it difficult to compare the air quality across different areas.\n",
      "\n",
      "**Recommendations**\n",
      "\n",
      "Based on this report, residents of Houston can expect good air quality conditions during early morning hours and moderate air quality during late afternoon hours. However, more detailed information is needed to provide a comprehensive air quality report.\n"
     ]
    },
    {
     "name": "stderr",
     "output_type": "stream",
     "text": [
      "/var/folders/c2/6wq9klzn19d97gvw8f8j1jdr0000gn/T/ipykernel_39496/3344370668.py:2: DeprecationWarning: callback_manager is deprecated. Please use callbacks instead.\n",
      "  llm = Ollama(\n"
     ]
    },
    {
     "name": "stdin",
     "output_type": "stream",
     "text": [
      "\n",
      "Query:  Where is the worst air quality?\n"
     ]
    },
    {
     "name": "stdout",
     "output_type": "stream",
     "text": [
      "I don't know.\n",
      "\n",
      "The context provides readings for ozone (o3) and particulate matter (bc) at different locations, but it doesn't provide a ranking or comparison of the air quality across all locations. To determine where the worst air quality is, I would need to analyze the readings and compare them, which is not possible with the given information.I don't know.\n",
      "\n",
      "The context provides readings for ozone (o3) and particulate matter (bc) at different locations, but it doesn't provide a ranking or comparison of the air quality across all locations. To determine where the worst air quality is, I would need to analyze the readings and compare them, which is not possible with the given information.\n"
     ]
    },
    {
     "name": "stderr",
     "output_type": "stream",
     "text": [
      "/var/folders/c2/6wq9klzn19d97gvw8f8j1jdr0000gn/T/ipykernel_39496/3344370668.py:2: DeprecationWarning: callback_manager is deprecated. Please use callbacks instead.\n",
      "  llm = Ollama(\n"
     ]
    },
    {
     "name": "stdin",
     "output_type": "stream",
     "text": [
      "\n",
      "Query:  Where is the highest ozone levels yesterday?\n"
     ]
    },
    {
     "name": "stdout",
     "output_type": "stream",
     "text": [
      "Based on the provided context, I can answer that the highest ozone level was measured at 0.049 ppm at Location 1009 (Palisade Ozone) at 17:00:00-06:00 on September 10, 2024.Based on the provided context, I can answer that the highest ozone level was measured at 0.049 ppm at Location 1009 (Palisade Ozone) at 17:00:00-06:00 on September 10, 2024.\n"
     ]
    },
    {
     "name": "stderr",
     "output_type": "stream",
     "text": [
      "/var/folders/c2/6wq9klzn19d97gvw8f8j1jdr0000gn/T/ipykernel_39496/3344370668.py:2: DeprecationWarning: callback_manager is deprecated. Please use callbacks instead.\n",
      "  llm = Ollama(\n"
     ]
    },
    {
     "name": "stdin",
     "output_type": "stream",
     "text": [
      "\n",
      "Query:  Where is the highest ozone levels yesterday in Trenton?\n"
     ]
    },
    {
     "name": "stdout",
     "output_type": "stream",
     "text": [
      "I don't know, because I don't have any information about ozone levels or locations related to Trenton. The provided context seems to be focused on Fort Collins, but doesn't provide any relevant data for Trenton.I don't know, because I don't have any information about ozone levels or locations related to Trenton. The provided context seems to be focused on Fort Collins, but doesn't provide any relevant data for Trenton.\n"
     ]
    },
    {
     "name": "stderr",
     "output_type": "stream",
     "text": [
      "/var/folders/c2/6wq9klzn19d97gvw8f8j1jdr0000gn/T/ipykernel_39496/3344370668.py:2: DeprecationWarning: callback_manager is deprecated. Please use callbacks instead.\n",
      "  llm = Ollama(\n"
     ]
    },
    {
     "name": "stdin",
     "output_type": "stream",
     "text": [
      "\n",
      "Query:  Where is the ozone levels this week in Trenton?\n"
     ]
    },
    {
     "name": "stdout",
     "output_type": "stream",
     "text": [
      "I don't know. The provided context only contains air quality readings for a specific location (Algonquin Parkway) on September 11, but does not include any information about Trenton or its ozone levels.I don't know. The provided context only contains air quality readings for a specific location (Algonquin Parkway) on September 11, but does not include any information about Trenton or its ozone levels.\n"
     ]
    },
    {
     "name": "stderr",
     "output_type": "stream",
     "text": [
      "/var/folders/c2/6wq9klzn19d97gvw8f8j1jdr0000gn/T/ipykernel_39496/3344370668.py:2: DeprecationWarning: callback_manager is deprecated. Please use callbacks instead.\n",
      "  llm = Ollama(\n"
     ]
    },
    {
     "name": "stdin",
     "output_type": "stream",
     "text": [
      "\n",
      "Query:  Provide a detailed air quality report for Houston\n"
     ]
    },
    {
     "name": "stdout",
     "output_type": "stream",
     "text": [
      "Here is the detailed air quality report for Houston:\n",
      "\n",
      "**Location:** Houston East C1, US (Latitude: 29.7681, Longitude: -95.2206)\n",
      "\n",
      "**Current Air Quality Reading (pm25):** 8.5 µg/m³ at 2024-09-10T02:00:00-05:00\n",
      "**Current Air Quality Reading (pm25):** 15.1 µg/m³ at 2024-09-10T15:00:00-05:00\n",
      "**Previous Day's Reading (pm25):** 16.9 µg/m³ at 2024-09-09T21:00:00-05:00\n",
      "\n",
      "**Note:** The current air quality reading is within the acceptable range, according to US EPA standards.\n",
      "\n",
      "I don't know the general health implications of these readings, but I can tell you that they seem to be relatively stable.Here is the detailed air quality report for Houston:\n",
      "\n",
      "**Location:** Houston East C1, US (Latitude: 29.7681, Longitude: -95.2206)\n",
      "\n",
      "**Current Air Quality Reading (pm25):** 8.5 µg/m³ at 2024-09-10T02:00:00-05:00\n",
      "**Current Air Quality Reading (pm25):** 15.1 µg/m³ at 2024-09-10T15:00:00-05:00\n",
      "**Previous Day's Reading (pm25):** 16.9 µg/m³ at 2024-09-09T21:00:00-05:00\n",
      "\n",
      "**Note:** The current air quality reading is within the acceptable range, according to US EPA standards.\n",
      "\n",
      "I don't know the general health implications of these readings, but I can tell you that they seem to be relatively stable.\n"
     ]
    },
    {
     "name": "stderr",
     "output_type": "stream",
     "text": [
      "/var/folders/c2/6wq9klzn19d97gvw8f8j1jdr0000gn/T/ipykernel_39496/3344370668.py:2: DeprecationWarning: callback_manager is deprecated. Please use callbacks instead.\n",
      "  llm = Ollama(\n"
     ]
    },
    {
     "name": "stdin",
     "output_type": "stream",
     "text": [
      "\n",
      "Query:  Provide a detailed air quality report for Trenton\n"
     ]
    },
    {
     "name": "stdout",
     "output_type": "stream",
     "text": [
      "Based on the provided context, here is a detailed air quality report for Trenton:\n",
      "\n",
      "**Location:** Trenton, US (Latitude: 33.7397, Longitude: -81.8536)\n",
      "\n",
      "**Date and Time:** September 10, 2024, 16:00:00-04:00 (4:00 PM EDT) and September 10, 2024, 11:00:00-04:00 (11:00 AM EDT)\n",
      "\n",
      "**Air Quality Index for Ozone (O3):**\n",
      "\n",
      "* At 4:00 PM EDT, the current air quality reading for ozone (o3) is **0.06 ppm**, which is within a safe range.\n",
      "* The analysis type and entity responsible for this measurement are not specified.\n",
      "\n",
      "**Key Observations:**\n",
      "\n",
      "* There has been no significant change in the ozone levels over the past 5 hours between the two measurements.\n",
      "* Both readings show ozone concentrations below the typical threshold for adverse health effects (0.10 ppm).\n",
      "\n",
      "**Recommendations:**\n",
      "\n",
      "* The air quality appears to be good, with no elevated ozone concentrations posing a risk to human health.\n",
      "* Individuals with pre-existing respiratory conditions or other sensitivities may still want to take precautions when spending time outdoors during peak sun hours.\n",
      "\n",
      "Please note that this report is based on the provided context and might not reflect real-time or comprehensive information.Based on the provided context, here is a detailed air quality report for Trenton:\n",
      "\n",
      "**Location:** Trenton, US (Latitude: 33.7397, Longitude: -81.8536)\n",
      "\n",
      "**Date and Time:** September 10, 2024, 16:00:00-04:00 (4:00 PM EDT) and September 10, 2024, 11:00:00-04:00 (11:00 AM EDT)\n",
      "\n",
      "**Air Quality Index for Ozone (O3):**\n",
      "\n",
      "* At 4:00 PM EDT, the current air quality reading for ozone (o3) is **0.06 ppm**, which is within a safe range.\n",
      "* The analysis type and entity responsible for this measurement are not specified.\n",
      "\n",
      "**Key Observations:**\n",
      "\n",
      "* There has been no significant change in the ozone levels over the past 5 hours between the two measurements.\n",
      "* Both readings show ozone concentrations below the typical threshold for adverse health effects (0.10 ppm).\n",
      "\n",
      "**Recommendations:**\n",
      "\n",
      "* The air quality appears to be good, with no elevated ozone concentrations posing a risk to human health.\n",
      "* Individuals with pre-existing respiratory conditions or other sensitivities may still want to take precautions when spending time outdoors during peak sun hours.\n",
      "\n",
      "Please note that this report is based on the provided context and might not reflect real-time or comprehensive information.\n"
     ]
    },
    {
     "name": "stderr",
     "output_type": "stream",
     "text": [
      "/var/folders/c2/6wq9klzn19d97gvw8f8j1jdr0000gn/T/ipykernel_39496/3344370668.py:2: DeprecationWarning: callback_manager is deprecated. Please use callbacks instead.\n",
      "  llm = Ollama(\n"
     ]
    },
    {
     "name": "stdin",
     "output_type": "stream",
     "text": [
      "\n",
      "Query:  Provide a detailed air quality report for Trenton including PM25\n"
     ]
    },
    {
     "name": "stdout",
     "output_type": "stream",
     "text": [
      "Based on the provided context, here is a detailed air quality report for Trenton:\n",
      "\n",
      "**Location:** Trenton, None, US (Latitude: 33.7397, Longitude: -81.8536)\n",
      "\n",
      "**Sensor Type:** Reference grade (governmental organization sensor)\n",
      "\n",
      "**Air Quality Metrics:**\n",
      "\n",
      "* **PM2.5 (pm25):**\n",
      "\t+ The current air quality reading for PM2.5 is 7.1 µg/m³.\n",
      "\t+ There are multiple readings available, all indicating a similar value:\n",
      "\t\t- 7.3 µg/m³ at 2024-09-11T03:00:00-04:00\n",
      "\t\t- 7.1 µg/m³ at 2024-09-11T02:00:00-04:00 (twice)\n",
      "\t\t- 7.1 µg/m³ at 2024-09-11T04:00:00-04:00\n",
      "\n",
      "**Interpretation:**\n",
      "\n",
      "* The current air quality in Trenton is considered good to moderate, with a PM2.5 reading of 7.1 µg/m³.\n",
      "* The readings are relatively stable across different time points (02:00, 03:00, 09:00, and 04:00), indicating that the air quality has been consistent over the past few hours.\n",
      "\n",
      "Please note that this report is based solely on the provided context and does not include any additional information or expert analysis.Based on the provided context, here is a detailed air quality report for Trenton:\n",
      "\n",
      "**Location:** Trenton, None, US (Latitude: 33.7397, Longitude: -81.8536)\n",
      "\n",
      "**Sensor Type:** Reference grade (governmental organization sensor)\n",
      "\n",
      "**Air Quality Metrics:**\n",
      "\n",
      "* **PM2.5 (pm25):**\n",
      "\t+ The current air quality reading for PM2.5 is 7.1 µg/m³.\n",
      "\t+ There are multiple readings available, all indicating a similar value:\n",
      "\t\t- 7.3 µg/m³ at 2024-09-11T03:00:00-04:00\n",
      "\t\t- 7.1 µg/m³ at 2024-09-11T02:00:00-04:00 (twice)\n",
      "\t\t- 7.1 µg/m³ at 2024-09-11T04:00:00-04:00\n",
      "\n",
      "**Interpretation:**\n",
      "\n",
      "* The current air quality in Trenton is considered good to moderate, with a PM2.5 reading of 7.1 µg/m³.\n",
      "* The readings are relatively stable across different time points (02:00, 03:00, 09:00, and 04:00), indicating that the air quality has been consistent over the past few hours.\n",
      "\n",
      "Please note that this report is based solely on the provided context and does not include any additional information or expert analysis.\n"
     ]
    },
    {
     "name": "stderr",
     "output_type": "stream",
     "text": [
      "/var/folders/c2/6wq9klzn19d97gvw8f8j1jdr0000gn/T/ipykernel_39496/3344370668.py:2: DeprecationWarning: callback_manager is deprecated. Please use callbacks instead.\n",
      "  llm = Ollama(\n"
     ]
    },
    {
     "name": "stdin",
     "output_type": "stream",
     "text": [
      "\n",
      "Query:  Provide a detailed air quality report for Houston including PM25\n"
     ]
    },
    {
     "name": "stdout",
     "output_type": "stream",
     "text": [
      "I'm not able to provide the specific air quality report you're asking for. I can, however, use the context provided to give a general air quality update for Houston as of 2024-09-11.\n",
      "\n",
      "Based on the given readings:\n",
      "\n",
      "* At 10:00 AM (2024-09-11T10:00:00-05:00), the PM25 level was 8.0 µg/m³.\n",
      "* At 12:00 PM (2024-09-11T12:00:00-05:00), the PM25 level dropped to 5.0 µg/m³.\n",
      "* There are two readings at 1:00 AM (2024-09-11T01:00:00-05:00) showing a consistent PM25 level of 7.0 µg/m³.\n",
      "\n",
      "This data suggests that the air quality in Houston on September 11, 2024, fluctuated throughout the day but generally remained at a moderate level for PM25, with values ranging from 5 to 8 µg/m³. This is below the US Environmental Protection Agency's (EPA) standard threshold for unhealthy air quality.\n",
      "\n",
      "For a detailed report that includes other pollutants and provides more specific information about health risks or recommendations, I recommend consulting the actual source of this data or reaching out to local air quality monitoring services in Houston.I'm not able to provide the specific air quality report you're asking for. I can, however, use the context provided to give a general air quality update for Houston as of 2024-09-11.\n",
      "\n",
      "Based on the given readings:\n",
      "\n",
      "* At 10:00 AM (2024-09-11T10:00:00-05:00), the PM25 level was 8.0 µg/m³.\n",
      "* At 12:00 PM (2024-09-11T12:00:00-05:00), the PM25 level dropped to 5.0 µg/m³.\n",
      "* There are two readings at 1:00 AM (2024-09-11T01:00:00-05:00) showing a consistent PM25 level of 7.0 µg/m³.\n",
      "\n",
      "This data suggests that the air quality in Houston on September 11, 2024, fluctuated throughout the day but generally remained at a moderate level for PM25, with values ranging from 5 to 8 µg/m³. This is below the US Environmental Protection Agency's (EPA) standard threshold for unhealthy air quality.\n",
      "\n",
      "For a detailed report that includes other pollutants and provides more specific information about health risks or recommendations, I recommend consulting the actual source of this data or reaching out to local air quality monitoring services in Houston.\n"
     ]
    },
    {
     "name": "stderr",
     "output_type": "stream",
     "text": [
      "/var/folders/c2/6wq9klzn19d97gvw8f8j1jdr0000gn/T/ipykernel_39496/3344370668.py:2: DeprecationWarning: callback_manager is deprecated. Please use callbacks instead.\n",
      "  llm = Ollama(\n"
     ]
    },
    {
     "name": "stdin",
     "output_type": "stream",
     "text": [
      "\n",
      "Query:  Provide a detailed air quality report for Trenton including PM25\n"
     ]
    },
    {
     "name": "stdout",
     "output_type": "stream",
     "text": [
      "Based on the provided context, here is a detailed air quality report for Trenton:\n",
      "\n",
      "**Location:** Trenton, None, US\n",
      "**Coordinates:** 33.7397,-81.8536\n",
      "**Sensor Type:** Reference grade\n",
      "**Entity:** Governmental Organization\n",
      "**Mobile:** False (i.e., this reading comes from a stationary sensor)\n",
      "\n",
      "**Current Air Quality Readings:**\n",
      "\n",
      "1. **Time:** 2024-09-10T06:00:00-04:00\n",
      "\t* PM25: 5.8 µg/m³\n",
      "2. **Time:** 2024-09-10T09:00:00-04:00 (same reading as above)\n",
      "\t* PM25: 10.7 µg/m³\n",
      "\n",
      "**Interpretation of Readings:**\n",
      "\n",
      "The current air quality readings for Trenton indicate a moderate level of particulate matter (PM) in the air. The PM25 levels are:\n",
      "\n",
      "* 5.8 µg/m³ at 06:00, which is relatively good air quality.\n",
      "* 10.7 µg/m³ at 09:00, which indicates a slight increase in PM levels.\n",
      "\n",
      "For context, the US Environmental Protection Agency (EPA) sets the following guidelines for PM25:\n",
      "\t+ Good Air Quality: ≤ 12.0 µg/m³\n",
      "\t+ Moderate Air Quality: > 12.0 µg/m³ and ≤ 35.4 µg/m³\n",
      "\t+ Unhealthy Air Quality: > 35.4 µg/m³\n",
      "\n",
      "Based on these guidelines, the current air quality in Trenton is considered good to moderate, with some slight variation throughout the morning.\n",
      "\n",
      "**Recommendations:**\n",
      "\n",
      "* Individuals with respiratory issues or sensitivities may want to take precautions when outdoors during this time.\n",
      "* People with lung conditions should consider avoiding strenuous outdoor activities until PM25 levels decrease.\n",
      "* Healthy individuals can continue normal outdoor activities without concern.\n",
      "\n",
      "Please note that air quality readings can fluctuate throughout the day due to various factors like weather, traffic, and industrial activity. It's essential to check for updates on current air quality conditions.Based on the provided context, here is a detailed air quality report for Trenton:\n",
      "\n",
      "**Location:** Trenton, None, US\n",
      "**Coordinates:** 33.7397,-81.8536\n",
      "**Sensor Type:** Reference grade\n",
      "**Entity:** Governmental Organization\n",
      "**Mobile:** False (i.e., this reading comes from a stationary sensor)\n",
      "\n",
      "**Current Air Quality Readings:**\n",
      "\n",
      "1. **Time:** 2024-09-10T06:00:00-04:00\n",
      "\t* PM25: 5.8 µg/m³\n",
      "2. **Time:** 2024-09-10T09:00:00-04:00 (same reading as above)\n",
      "\t* PM25: 10.7 µg/m³\n",
      "\n",
      "**Interpretation of Readings:**\n",
      "\n",
      "The current air quality readings for Trenton indicate a moderate level of particulate matter (PM) in the air. The PM25 levels are:\n",
      "\n",
      "* 5.8 µg/m³ at 06:00, which is relatively good air quality.\n",
      "* 10.7 µg/m³ at 09:00, which indicates a slight increase in PM levels.\n",
      "\n",
      "For context, the US Environmental Protection Agency (EPA) sets the following guidelines for PM25:\n",
      "\t+ Good Air Quality: ≤ 12.0 µg/m³\n",
      "\t+ Moderate Air Quality: > 12.0 µg/m³ and ≤ 35.4 µg/m³\n",
      "\t+ Unhealthy Air Quality: > 35.4 µg/m³\n",
      "\n",
      "Based on these guidelines, the current air quality in Trenton is considered good to moderate, with some slight variation throughout the morning.\n",
      "\n",
      "**Recommendations:**\n",
      "\n",
      "* Individuals with respiratory issues or sensitivities may want to take precautions when outdoors during this time.\n",
      "* People with lung conditions should consider avoiding strenuous outdoor activities until PM25 levels decrease.\n",
      "* Healthy individuals can continue normal outdoor activities without concern.\n",
      "\n",
      "Please note that air quality readings can fluctuate throughout the day due to various factors like weather, traffic, and industrial activity. It's essential to check for updates on current air quality conditions.\n"
     ]
    },
    {
     "name": "stderr",
     "output_type": "stream",
     "text": [
      "/var/folders/c2/6wq9klzn19d97gvw8f8j1jdr0000gn/T/ipykernel_39496/3344370668.py:2: DeprecationWarning: callback_manager is deprecated. Please use callbacks instead.\n",
      "  llm = Ollama(\n"
     ]
    }
   ],
   "source": [
    "    while True:\n",
    "        run_query()"
   ]
  },
  {
   "cell_type": "code",
   "execution_count": null,
   "id": "6d8d9c0b-e318-4472-99f5-420157bde4ad",
   "metadata": {},
   "outputs": [],
   "source": []
  }
 ],
 "metadata": {
  "kernelspec": {
   "display_name": "Python 3 (ipykernel)",
   "language": "python",
   "name": "python3"
  },
  "language_info": {
   "codemirror_mode": {
    "name": "ipython",
    "version": 3
   },
   "file_extension": ".py",
   "mimetype": "text/x-python",
   "name": "python",
   "nbconvert_exporter": "python",
   "pygments_lexer": "ipython3",
   "version": "3.12.5"
  }
 },
 "nbformat": 4,
 "nbformat_minor": 5
}
